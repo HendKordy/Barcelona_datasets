{
  "cells": [
    {
      "cell_type": "markdown",
      "metadata": {
        "id": "p9f2-PeSFck8"
      },
      "source": [
        "## Intro to python fundamentals\n"
      ]
    },
    {
      "cell_type": "code",
      "execution_count": null,
      "metadata": {
        "colab": {
          "base_uri": "https://localhost:8080/",
          "height": 35
        },
        "id": "Q5Dt1UIOFZMr",
        "outputId": "373bf200-3676-4953-e783-ce7c908e589f"
      },
      "outputs": [],
      "source": [
        "# Four key types\n",
        "a = 1 # int (Integers, whole numbers)\n",
        "type(a) # recall in R: typeof()\n"
      ]
    },
    {
      "cell_type": "code",
      "execution_count": null,
      "metadata": {
        "colab": {
          "base_uri": "https://localhost:8080/",
          "height": 35
        },
        "id": "7bdOvws3GQzL",
        "outputId": "57e370bb-a0cb-4c0a-e66c-a9f2ba3aa9f1"
      },
      "outputs": [],
      "source": [
        "b = 0.25 # float (\"double\", numeric, real numbers)\n",
        "type(b)\n"
      ]
    },
    {
      "cell_type": "code",
      "execution_count": null,
      "metadata": {
        "colab": {
          "base_uri": "https://localhost:8080/",
          "height": 35
        },
        "id": "B1jH3Ho5GRy8",
        "outputId": "f18c9de2-b770-4435-8eaa-e5c56f85fa8b"
      },
      "outputs": [],
      "source": [
        "c = 'Berlin' # str (string, \"character\", object)\n",
        "type(c)\n"
      ]
    },
    {
      "cell_type": "code",
      "execution_count": null,
      "metadata": {
        "colab": {
          "base_uri": "https://localhost:8080/",
          "height": 35
        },
        "id": "FZjSW4ToGSvQ",
        "outputId": "1d31ce89-dd85-4208-d444-a5d72306678d"
      },
      "outputs": [],
      "source": [
        "d = True # bool (Boolean, binary, \"logical\", True/False)\n",
        "type(d)"
      ]
    },
    {
      "cell_type": "markdown",
      "metadata": {
        "id": "5HYgT-gjHWwa"
      },
      "source": [
        "**Exercise 3.1**\n",
        "\n",
        "What will these commands produce"
      ]
    },
    {
      "cell_type": "code",
      "execution_count": null,
      "metadata": {
        "colab": {
          "base_uri": "https://localhost:8080/",
          "height": 35
        },
        "id": "IbgW1QTOHYz4",
        "outputId": "f1754050-0692-43ef-d48a-56ce018e1292"
      },
      "outputs": [],
      "source": [
        "1 + 1"
      ]
    },
    {
      "cell_type": "code",
      "execution_count": null,
      "metadata": {
        "colab": {
          "base_uri": "https://localhost:8080/",
          "height": 35
        },
        "id": "31gZTBd2HfzQ",
        "outputId": "a4c120d7-4484-4b1b-d51b-0dff45a3165d"
      },
      "outputs": [],
      "source": [
        "'1' + '1'"
      ]
    },
    {
      "cell_type": "markdown",
      "metadata": {
        "id": "cf9jcT6vH8zB"
      },
      "source": [
        "In the above command we \"added\" two strings together \"concatenate\". In R, we would use `paste()`"
      ]
    },
    {
      "cell_type": "code",
      "execution_count": null,
      "metadata": {
        "colab": {
          "base_uri": "https://localhost:8080/",
          "height": 35
        },
        "id": "-5YAJNa0Hhh2",
        "outputId": "17021042-3b4e-4b28-cf08-ccb2a3e83e0a"
      },
      "outputs": [],
      "source": [
        "'1' * 5"
      ]
    },
    {
      "cell_type": "markdown",
      "metadata": {
        "id": "fDCPZJ3-IHTB"
      },
      "source": [
        "prediction: error because you're \"adding\" a `str` with `int`. Or... 11111, or `15`."
      ]
    },
    {
      "cell_type": "code",
      "execution_count": null,
      "metadata": {
        "colab": {
          "base_uri": "https://localhost:8080/",
          "height": 35
        },
        "id": "iM0eKMgMHiWZ",
        "outputId": "660ea34b-8bc7-4498-fccf-ef3d48435a28"
      },
      "outputs": [],
      "source": [
        "'1' '1'"
      ]
    },
    {
      "cell_type": "markdown",
      "metadata": {
        "id": "d-r03WdMJ0Ee"
      },
      "source": [
        "## Exploring Functions & Methods"
      ]
    },
    {
      "cell_type": "markdown",
      "metadata": {
        "id": "0yPckWfWKhsN"
      },
      "source": [
        "First initialize some packages"
      ]
    },
    {
      "cell_type": "code",
      "execution_count": null,
      "metadata": {
        "colab": {
          "base_uri": "https://localhost:8080/",
          "height": 73
        },
        "id": "mPXxPmejJzKd",
        "outputId": "b8df82ad-132f-4bb7-cdee-21a0774771bf"
      },
      "outputs": [],
      "source": [
        "import math # literally from math import *\n",
        "import numpy as np\n",
        "import pandas as pd\n",
        "from scipy import stats\n",
        "from scipy.stats import ttest_ind\n",
        "from statsmodels.stats.multicomp import pairwise_tukeyhsd\n",
        "from statsmodels.formula.api import ols"
      ]
    },
    {
      "cell_type": "markdown",
      "metadata": {
        "id": "aarr1Cr1KlB-"
      },
      "source": [
        "Call some basic functions"
      ]
    },
    {
      "cell_type": "code",
      "execution_count": null,
      "metadata": {
        "colab": {
          "base_uri": "https://localhost:8080/",
          "height": 35
        },
        "id": "_s5YpvwGKoBM",
        "outputId": "f4962ed8-13a0-4d4c-cb76-2ac5c8ab6912"
      },
      "outputs": [],
      "source": [
        "numb = 8\n",
        "np.log2(numb)"
      ]
    },
    {
      "cell_type": "code",
      "execution_count": null,
      "metadata": {
        "colab": {
          "base_uri": "https://localhost:8080/",
          "height": 35
        },
        "id": "iuUkhwdaLK9q",
        "outputId": "6a8397a2-8d2c-4d8e-87d5-852f7de2952b"
      },
      "outputs": [],
      "source": [
        "math.log2(8)"
      ]
    },
    {
      "cell_type": "markdown",
      "metadata": {
        "id": "dUNC9BcyL9lU"
      },
      "source": [
        "### Lists (Data containers I)"
      ]
    },
    {
      "cell_type": "markdown",
      "metadata": {
        "id": "Eh_usUDcMdtG"
      },
      "source": [
        "This give an error :/ `can only concatenate list (not \"int\") to list`\n",
        "\n"
      ]
    },
    {
      "cell_type": "code",
      "execution_count": null,
      "metadata": {
        "id": "-T-8jqd7MDhW"
      },
      "outputs": [],
      "source": [
        "# [1, 6, 9, 36] + 100"
      ]
    },
    {
      "cell_type": "markdown",
      "metadata": {
        "id": "zYY7heXVMt0B"
      },
      "source": [
        "Below, we may predict `11,106,19,136` if we expect vector recycling (as in R,), but what we really get is ... `1,6,9,36,10,100`"
      ]
    },
    {
      "cell_type": "code",
      "execution_count": null,
      "metadata": {
        "colab": {
          "base_uri": "https://localhost:8080/",
          "height": 35
        },
        "id": "7HRRTQSOMEfZ",
        "outputId": "44a755fc-8e21-41f2-f316-cbf0835e29e3"
      },
      "outputs": [],
      "source": [
        "[1, 6, 9, 36] + [10, 100]\n"
      ]
    },
    {
      "cell_type": "markdown",
      "metadata": {
        "id": "6F3pvs9MMMJk"
      },
      "source": [
        "Below we'll get the same thing"
      ]
    },
    {
      "cell_type": "code",
      "execution_count": null,
      "metadata": {
        "colab": {
          "base_uri": "https://localhost:8080/",
          "height": 35
        },
        "id": "6tISQ6qTMJAv",
        "outputId": "b5218d6b-0b2d-4b47-dd92-86ca17d9e2fd"
      },
      "outputs": [],
      "source": [
        "[1, 6, 9, 36] + [100, 200, 300, 400]\n",
        "\n"
      ]
    },
    {
      "cell_type": "code",
      "execution_count": null,
      "metadata": {
        "colab": {
          "base_uri": "https://localhost:8080/",
          "height": 35
        },
        "id": "zwDW0nIzMKA6",
        "outputId": "1fa13e5a-c808-4a17-b565-20f6b4b1b984"
      },
      "outputs": [],
      "source": [
        "[1, 6, 9, 36] + [100, \"dogs\", 300, 400]\n",
        "\n"
      ]
    },
    {
      "cell_type": "markdown",
      "metadata": {
        "id": "3pujGc7bNb0L"
      },
      "source": [
        "This shows us that lists can be _heterogeneous_"
      ]
    },
    {
      "cell_type": "markdown",
      "metadata": {
        "id": "dOx0ymT6N7iG"
      },
      "source": []
    },
    {
      "cell_type": "code",
      "execution_count": null,
      "metadata": {
        "colab": {
          "base_uri": "https://localhost:8080/",
          "height": 35
        },
        "id": "lixC9nMOOCof",
        "outputId": "1134c60b-1636-4c45-c750-e1c49e09e161"
      },
      "outputs": [],
      "source": [
        "heights = [167, 188, 178, 194, 171, 169]\n",
        "heights"
      ]
    },
    {
      "cell_type": "code",
      "execution_count": null,
      "metadata": {
        "colab": {
          "base_uri": "https://localhost:8080/",
          "height": 35
        },
        "id": "alz_yQMGOE-L",
        "outputId": "f2879c86-b100-4388-c407-d758d0225986"
      },
      "outputs": [],
      "source": [
        "type(heights)"
      ]
    },
    {
      "cell_type": "code",
      "execution_count": null,
      "metadata": {
        "colab": {
          "base_uri": "https://localhost:8080/",
          "height": 35
        },
        "id": "k3OPqMW9QN3E",
        "outputId": "5705bee2-c740-4bb2-b4f3-bc28f9a42361"
      },
      "outputs": [],
      "source": [
        "np.mean(heights) # the mean"
      ]
    },
    {
      "cell_type": "code",
      "execution_count": null,
      "metadata": {
        "colab": {
          "base_uri": "https://localhost:8080/",
          "height": 35
        },
        "id": "ML0HRyYOQkmB",
        "outputId": "edf66647-59dd-487b-c03c-e0effb16c8a0"
      },
      "outputs": [],
      "source": [
        "np.std(heights) # the standard deviation"
      ]
    },
    {
      "cell_type": "code",
      "execution_count": null,
      "metadata": {
        "colab": {
          "base_uri": "https://localhost:8080/",
          "height": 35
        },
        "id": "s73cgvujRKFx",
        "outputId": "2202aba2-e9a8-46ea-d397-b98c4ba3a024"
      },
      "outputs": [],
      "source": [
        "sum(heights)"
      ]
    },
    {
      "cell_type": "code",
      "execution_count": null,
      "metadata": {
        "colab": {
          "base_uri": "https://localhost:8080/",
          "height": 35
        },
        "id": "ohHi0YrkRM5e",
        "outputId": "26dab30d-1195-4840-a8c2-fcae06ed51e4"
      },
      "outputs": [],
      "source": [
        "len(heights) # The number of elements, would use length()"
      ]
    },
    {
      "cell_type": "markdown",
      "metadata": {
        "id": "3EBNaILMRlBV"
      },
      "source": [
        " **Exercise 3.3**\n",
        "\n",
        " Calculate the lower and upper limits of the 95% confidence interval for the list of heights."
      ]
    },
    {
      "cell_type": "code",
      "execution_count": null,
      "metadata": {
        "colab": {
          "base_uri": "https://localhost:8080/",
          "height": 35
        },
        "id": "vns3oKRtRkSO",
        "outputId": "6db02288-386a-40d8-84c6-4f5842bb3f4b"
      },
      "outputs": [],
      "source": [
        "# Lower limit: mean - 1.96 * sd/sqrt of n\n",
        "heights_mean = np.mean(heights)\n",
        "height_sd = np.std(heights)\n",
        "height_sq_n = math.sqrt(len(heights))\n",
        "\n",
        "heights_mean - 1.96 * height_sd/height_sq_n "
      ]
    },
    {
      "cell_type": "code",
      "execution_count": null,
      "metadata": {
        "colab": {
          "base_uri": "https://localhost:8080/",
          "height": 35
        },
        "id": "H0qsDUHeTTHF",
        "outputId": "a11bc174-9351-4f79-e44a-f4305a18ee8f"
      },
      "outputs": [],
      "source": [
        "# Upper limit: mean + 1.96 * sd/sqrt of n\n",
        "\n",
        "heights_mean + 1.96 * height_sd/height_sq_n \n"
      ]
    },
    {
      "cell_type": "markdown",
      "metadata": {
        "id": "gz8CunttRyJG"
      },
      "source": [
        "**Exercise 3.4**\n",
        "\n",
        "Using the data below:"
      ]
    },
    {
      "cell_type": "code",
      "execution_count": null,
      "metadata": {
        "id": "D75FzupVR04q"
      },
      "outputs": [],
      "source": [
        "cities = ['Munich', 'Paris', 'Amsterdam', 'Madrid', 'Istanbul']\n",
        "dist = [584, 1054, 653, 2301, 2191]"
      ]
    },
    {
      "cell_type": "markdown",
      "metadata": {
        "id": "c2_0TWwuSkQw"
      },
      "source": [
        "- How many observations are there?"
      ]
    },
    {
      "cell_type": "code",
      "execution_count": null,
      "metadata": {
        "colab": {
          "base_uri": "https://localhost:8080/",
          "height": 35
        },
        "id": "0Kh9FE9KR9cw",
        "outputId": "dd472763-a279-4fcb-eaa7-bad4a0ad5668"
      },
      "outputs": [],
      "source": [
        "len(dist)"
      ]
    },
    {
      "cell_type": "markdown",
      "metadata": {
        "id": "LP8-3HaHSnk6"
      },
      "source": [
        "- What is the longest and shortest distance?"
      ]
    },
    {
      "cell_type": "code",
      "execution_count": null,
      "metadata": {
        "colab": {
          "base_uri": "https://localhost:8080/",
          "height": 35
        },
        "id": "FitJNHxhSkcg",
        "outputId": "cf23a4b5-08da-4fba-e24b-e1d915962ea9"
      },
      "outputs": [],
      "source": [
        "# longest\n",
        "max(dist)"
      ]
    },
    {
      "cell_type": "code",
      "execution_count": null,
      "metadata": {
        "colab": {
          "base_uri": "https://localhost:8080/",
          "height": 35
        },
        "id": "YUCW1Mi3VBWf",
        "outputId": "5c886c31-936d-4016-c7b8-72c1e5c8f7aa"
      },
      "outputs": [],
      "source": [
        "# shortest\n",
        "min(dist)"
      ]
    },
    {
      "cell_type": "markdown",
      "metadata": {
        "id": "__rRV0s1Sk7_"
      },
      "source": [
        "- Get the average distance"
      ]
    },
    {
      "cell_type": "code",
      "execution_count": null,
      "metadata": {
        "colab": {
          "base_uri": "https://localhost:8080/",
          "height": 35
        },
        "id": "RFHv4DY8SlF5",
        "outputId": "9116c8f9-cffd-46d4-fe6a-ce755cbcaa45"
      },
      "outputs": [],
      "source": [
        "np.mean(dist)\n",
        "# sum(dist)/len(dist)"
      ]
    },
    {
      "cell_type": "markdown",
      "metadata": {
        "id": "8rzDkHVoSoh6"
      },
      "source": [
        "**Exercise 3.5** \n",
        "\n",
        "Visualize the values in the `dist` list as a _univariate strip plot_ or a _histogram_."
      ]
    },
    {
      "cell_type": "code",
      "execution_count": null,
      "metadata": {
        "colab": {
          "base_uri": "https://localhost:8080/",
          "height": 283
        },
        "id": "NTxauhiySwYh",
        "outputId": "31b49b3c-016a-4563-a9d8-8aa924eae236"
      },
      "outputs": [],
      "source": [
        "# First import seaborn to get nice plotting functions\n",
        "# use the alias sns\n",
        "import seaborn as sns\n",
        "sns.histplot(dist)"
      ]
    },
    {
      "cell_type": "code",
      "execution_count": null,
      "metadata": {
        "colab": {
          "base_uri": "https://localhost:8080/",
          "height": 339
        },
        "id": "tV7BGcjKXKaL",
        "outputId": "ab819c25-1ca2-472a-8e57-d9c4e85f6914"
      },
      "outputs": [],
      "source": [
        "sns.stripplot(dist)"
      ]
    },
    {
      "cell_type": "markdown",
      "metadata": {
        "id": "Tn4JQd57X7IO"
      },
      "source": [
        "### Making functions"
      ]
    },
    {
      "cell_type": "markdown",
      "metadata": {
        "id": "DQhPgyPoX94P"
      },
      "source": [
        "Use the `def` keyword to _define_ a new function `addNumbs` whidh will take two arguments `x` and `y` and uses the `return` keyword to give back the result. Add a comment using `\"\"\"` notation."
      ]
    },
    {
      "cell_type": "code",
      "execution_count": null,
      "metadata": {
        "id": "31i9A9f4X8rt"
      },
      "outputs": [],
      "source": [
        "def addNumbs(x, y):\n",
        "    \"\"\"Add two numbers together\"\"\"\n",
        "    z = x + y\n",
        "    return z"
      ]
    },
    {
      "cell_type": "code",
      "execution_count": null,
      "metadata": {
        "colab": {
          "base_uri": "https://localhost:8080/",
          "height": 35
        },
        "id": "urrp5B4wYLII",
        "outputId": "f1fcacdc-4a87-408c-fd0e-207b17aea63c"
      },
      "outputs": [],
      "source": [
        "addNumbs(5, 6)"
      ]
    },
    {
      "cell_type": "markdown",
      "metadata": {
        "id": "56CH2b14Ylhr"
      },
      "source": [
        "**Exercise 3.6** \n",
        "Create a function, `confInt` that** takes a list **and returns the lower 95%CI limit"
      ]
    },
    {
      "cell_type": "code",
      "execution_count": null,
      "metadata": {
        "id": "nZhYmXYNYtUH"
      },
      "outputs": [],
      "source": [
        "def confInt(x):\n",
        "    \"\"\"Calculate the 95%CI\"\"\"\n",
        "    m = np.mean(x)\n",
        "    std = np.std(x)\n",
        "    n = len(x)\n",
        "    CiH = m + 1.96 * std / math.sqrt(n)\n",
        "    CiL = m - 1.96 * std / math.sqrt(n)\n",
        "    return CiL"
      ]
    },
    {
      "cell_type": "code",
      "execution_count": null,
      "metadata": {
        "colab": {
          "base_uri": "https://localhost:8080/",
          "height": 35
        },
        "id": "Jz8eaSvfZ3uC",
        "outputId": "39a099b9-a86b-475b-a5d0-9e6bba69dc42"
      },
      "outputs": [],
      "source": [
        "confInt(heights)"
      ]
    },
    {
      "cell_type": "markdown",
      "metadata": {
        "id": "HSBqWpt8aj-M"
      },
      "source": [
        "Outputting more than one value as a **tuple**"
      ]
    },
    {
      "cell_type": "code",
      "execution_count": null,
      "metadata": {
        "id": "shNwUt0IajJZ"
      },
      "outputs": [],
      "source": [
        "def mathFun(x, y):\n",
        "    \"\"\"Add and subtract two numbers together\"\"\"\n",
        "    return x + y, x - y"
      ]
    },
    {
      "cell_type": "code",
      "execution_count": null,
      "metadata": {
        "colab": {
          "base_uri": "https://localhost:8080/",
          "height": 35
        },
        "id": "9SBH8ZEDbSXy",
        "outputId": "7fbccc26-b12c-40d1-969c-e02af75e4ac1"
      },
      "outputs": [],
      "source": [
        "my_out = mathFun(4, 6)\n",
        "type(my_out)"
      ]
    },
    {
      "cell_type": "markdown",
      "metadata": {
        "id": "Cy9JDefFbmE7"
      },
      "source": [
        "**Exercise 3.7** \n",
        "Create a tuple output from `confInt` that returns the lower & upper 95%CI limit"
      ]
    },
    {
      "cell_type": "code",
      "execution_count": null,
      "metadata": {
        "id": "bo6vFYjLbsxb"
      },
      "outputs": [],
      "source": [
        "def confInt(x):\n",
        "    \"\"\"Calculate the 95%CI\"\"\"\n",
        "    m = np.mean(x)\n",
        "    std = np.std(x)\n",
        "    n = len(x)\n",
        "    CiH = m + 1.96 * std / math.sqrt(n)\n",
        "    CiL = m - 1.96 * std / math.sqrt(n)\n",
        "    return CiL, CiH"
      ]
    },
    {
      "cell_type": "code",
      "execution_count": null,
      "metadata": {
        "colab": {
          "base_uri": "https://localhost:8080/",
          "height": 35
        },
        "id": "bPZ5nRBRb-G-",
        "outputId": "e95314a6-137d-4a2d-e18d-df6e3343fcbd"
      },
      "outputs": [],
      "source": [
        "confInt(heights)"
      ]
    },
    {
      "cell_type": "markdown",
      "metadata": {
        "id": "xs3D9gM5apnL"
      },
      "source": [
        "**lamba** functions: Making _anonymous_ functions.\n",
        "\n",
        "A simple syntax for making short and simple functions:"
      ]
    },
    {
      "cell_type": "code",
      "execution_count": null,
      "metadata": {
        "colab": {
          "base_uri": "https://localhost:8080/",
          "height": 35
        },
        "id": "5rSU46W8dg1J",
        "outputId": "a8dd8b2c-e4fd-47b2-c48b-6771b70b51d4"
      },
      "outputs": [],
      "source": [
        "raise_to_power =  lambda x, y: x ** y\n",
        "raise_to_power(2, 3)"
      ]
    },
    {
      "cell_type": "markdown",
      "metadata": {
        "id": "zhEKAl4IdhTZ"
      },
      "source": [
        "More typically, a way to make unnamed _anonymous_ functions:"
      ]
    },
    {
      "cell_type": "code",
      "execution_count": null,
      "metadata": {
        "colab": {
          "base_uri": "https://localhost:8080/",
          "height": 35
        },
        "id": "6bkrUt-hcjZg",
        "outputId": "3f237f68-d444-41d6-da49-be7710394b33"
      },
      "outputs": [],
      "source": [
        "nums = [3, 5, 6, 8, 3]\n",
        "nums # a list of 5 elements"
      ]
    },
    {
      "cell_type": "code",
      "execution_count": null,
      "metadata": {
        "id": "ly1FG6HlczIA"
      },
      "outputs": [],
      "source": [
        "# nums ** 2 # this gives a typeError :/ :/ we would actually expect vector recycling"
      ]
    },
    {
      "cell_type": "code",
      "execution_count": null,
      "metadata": {
        "id": "avThDQBHdGTb"
      },
      "outputs": [],
      "source": [
        "square_all = map(lambda num: num ** 2, nums) # this applies a lamba functions to each element and outputs a map objects"
      ]
    },
    {
      "cell_type": "code",
      "execution_count": null,
      "metadata": {
        "colab": {
          "base_uri": "https://localhost:8080/",
          "height": 35
        },
        "id": "bn8LqBe-dOo8",
        "outputId": "561347fe-e465-4425-fd98-5562af7e95e8"
      },
      "outputs": [],
      "source": [
        "list(square_all) # this converts to a list object"
      ]
    },
    {
      "cell_type": "markdown",
      "metadata": {
        "id": "weFDXEvMmvuk"
      },
      "source": [
        "### Methods\n",
        "\n",
        "Methods are special functions that belong to specific objects.\n"
      ]
    },
    {
      "cell_type": "code",
      "execution_count": null,
      "metadata": {
        "colab": {
          "base_uri": "https://localhost:8080/",
          "height": 35
        },
        "id": "Y4YOzuHcmxqT",
        "outputId": "f7e62006-ed37-45c9-cf2c-55e4c09176e8"
      },
      "outputs": [],
      "source": [
        "l = [1, \"2\", True]\n",
        "l"
      ]
    },
    {
      "cell_type": "code",
      "execution_count": null,
      "metadata": {
        "id": "kJ_ErGklm2PN"
      },
      "outputs": [],
      "source": [
        "# l can be directly modified\n",
        "l.append(\"append value\")\n",
        "\n",
        "# Not:\n",
        "# l = append(l, \"appended value\")\n",
        "# This would be similar to c(l, \"value\") in R"
      ]
    },
    {
      "cell_type": "code",
      "execution_count": null,
      "metadata": {
        "colab": {
          "base_uri": "https://localhost:8080/",
          "height": 35
        },
        "id": "1lKCkXUUnTav",
        "outputId": "02330b95-09bb-4178-960a-c401579949d9"
      },
      "outputs": [],
      "source": [
        "l"
      ]
    },
    {
      "cell_type": "code",
      "execution_count": null,
      "metadata": {
        "colab": {
          "base_uri": "https://localhost:8080/",
          "height": 35
        },
        "id": "cxy7KValojir",
        "outputId": "7e66f735-30fe-4901-df30-de2973943a4d"
      },
      "outputs": [],
      "source": [
        "# lower() converts but does not update this scalar\n",
        "name = \"Berlin\"\n",
        "name.lower()"
      ]
    },
    {
      "cell_type": "code",
      "execution_count": null,
      "metadata": {
        "colab": {
          "base_uri": "https://localhost:8080/",
          "height": 35
        },
        "id": "XqIuhIftonjf",
        "outputId": "af494fc0-8c46-4dbd-8637-75f9a78e17ed"
      },
      "outputs": [],
      "source": [
        "name.upper()"
      ]
    },
    {
      "cell_type": "code",
      "execution_count": null,
      "metadata": {
        "colab": {
          "base_uri": "https://localhost:8080/",
          "height": 35
        },
        "id": "HLqiyfKmoxbP",
        "outputId": "c9a809b0-611e-4cf3-8c88-e321c6de502e"
      },
      "outputs": [],
      "source": [
        "cities"
      ]
    },
    {
      "cell_type": "code",
      "execution_count": null,
      "metadata": {
        "id": "x02n98Fjo1F6"
      },
      "outputs": [],
      "source": [
        "# lower() is not a method for a list object\n",
        "# cities.lower()"
      ]
    },
    {
      "cell_type": "markdown",
      "metadata": {
        "id": "M5A3XG-ypjsa"
      },
      "source": [
        "Methods for numerical list objects\n"
      ]
    },
    {
      "cell_type": "code",
      "execution_count": null,
      "metadata": {
        "colab": {
          "base_uri": "https://localhost:8080/",
          "height": 845
        },
        "id": "do8v1J5SptqS",
        "outputId": "0c6086c6-f927-442b-a6d2-b712d59c1d09"
      },
      "outputs": [],
      "source": [
        "# Available methods for this object:\n",
        "dir(dist)"
      ]
    },
    {
      "cell_type": "markdown",
      "metadata": {
        "id": "hu285cMBp3B7"
      },
      "source": [
        "Examples:\n",
        "\n",
        "- `.append()`\n",
        " "
      ]
    },
    {
      "cell_type": "code",
      "execution_count": null,
      "metadata": {
        "id": "EXzSkQxPqOIU"
      },
      "outputs": [],
      "source": [
        "# Append a new value to the end of the list:\n",
        "dist.append(500)"
      ]
    },
    {
      "cell_type": "code",
      "execution_count": null,
      "metadata": {
        "colab": {
          "base_uri": "https://localhost:8080/",
          "height": 35
        },
        "id": "giMdU0G-qS2P",
        "outputId": "03986592-bd4e-4991-d0cf-231da9456509"
      },
      "outputs": [],
      "source": [
        "dist"
      ]
    },
    {
      "cell_type": "markdown",
      "metadata": {
        "id": "6mM4vWGep-S3"
      },
      "source": [
        "- `.clear`\n",
        " "
      ]
    },
    {
      "cell_type": "code",
      "execution_count": null,
      "metadata": {
        "id": "70p4q_T-qYAL"
      },
      "outputs": [],
      "source": [
        "# Remove all items\n",
        "dist.clear()"
      ]
    },
    {
      "cell_type": "code",
      "execution_count": null,
      "metadata": {
        "colab": {
          "base_uri": "https://localhost:8080/",
          "height": 35
        },
        "id": "NVlS_CC3qcoU",
        "outputId": "1244c7d9-940b-4614-d472-b8abb1f02589"
      },
      "outputs": [],
      "source": [
        "dist"
      ]
    },
    {
      "cell_type": "code",
      "execution_count": null,
      "metadata": {
        "colab": {
          "base_uri": "https://localhost:8080/",
          "height": 35
        },
        "id": "4tJyauusquCI",
        "outputId": "785af0e5-756b-4f2f-fc2b-826e1ef91fae"
      },
      "outputs": [],
      "source": [
        "# Re-establish dist\n",
        "dist = [584, 1054, 653, 2301, 2191, 500]\n",
        "dist"
      ]
    },
    {
      "cell_type": "markdown",
      "metadata": {
        "id": "WsUSoyglp_N6"
      },
      "source": [
        " - `copy`\n",
        " "
      ]
    },
    {
      "cell_type": "code",
      "execution_count": null,
      "metadata": {
        "id": "RzTFiooJqfup"
      },
      "outputs": [],
      "source": [
        "# Makes a shallow copy (we'll see this later on)\n",
        "# dist.copy()"
      ]
    },
    {
      "cell_type": "markdown",
      "metadata": {
        "id": "4pOIaBk8qAKv"
      },
      "source": [
        "- `count`\n",
        " "
      ]
    },
    {
      "cell_type": "code",
      "execution_count": null,
      "metadata": {
        "colab": {
          "base_uri": "https://localhost:8080/",
          "height": 35
        },
        "id": "3dsWrbrNqgqn",
        "outputId": "9cf4ee67-4626-46cf-cfa2-175652caa2f0"
      },
      "outputs": [],
      "source": [
        "dist.count(653)"
      ]
    },
    {
      "cell_type": "markdown",
      "metadata": {
        "id": "gIPQLhtpqA_p"
      },
      "source": [
        "- `extend`\n",
        " "
      ]
    },
    {
      "cell_type": "code",
      "execution_count": null,
      "metadata": {
        "id": "AjbjqonJqhQ6"
      },
      "outputs": [],
      "source": [
        "# Need an iterable object here:\n",
        "# dist.extend()"
      ]
    },
    {
      "cell_type": "markdown",
      "metadata": {
        "id": "iUa0IHNYqB2J"
      },
      "source": [
        "- `index`\n",
        " "
      ]
    },
    {
      "cell_type": "code",
      "execution_count": null,
      "metadata": {
        "colab": {
          "base_uri": "https://localhost:8080/",
          "height": 35
        },
        "id": "xvLWS078qh9G",
        "outputId": "f0bc0a39-07b0-4b95-bcf8-ac280c04eeae"
      },
      "outputs": [],
      "source": [
        "# First index position of a value\n",
        "dist.index(1054) #1, since python indexes from 0"
      ]
    },
    {
      "cell_type": "markdown",
      "metadata": {
        "id": "bgwfEinnqCv-"
      },
      "source": [
        "- `insert`\n",
        " "
      ]
    },
    {
      "cell_type": "code",
      "execution_count": null,
      "metadata": {
        "colab": {
          "base_uri": "https://localhost:8080/",
          "height": 35
        },
        "id": "LWiyVyoNql8G",
        "outputId": "69f082cf-fcac-4ee1-d6cb-895be7e4d72a"
      },
      "outputs": [],
      "source": [
        "dist.insert(1, 999)\n",
        "dist"
      ]
    },
    {
      "cell_type": "markdown",
      "metadata": {
        "id": "jTI8SyFRqDki"
      },
      "source": [
        "- `pop`\n",
        " "
      ]
    },
    {
      "cell_type": "code",
      "execution_count": null,
      "metadata": {
        "colab": {
          "base_uri": "https://localhost:8080/",
          "height": 35
        },
        "id": "jSp30J1YqlcS",
        "outputId": "77b993a8-3a93-457e-beee-7624ccc41959"
      },
      "outputs": [],
      "source": [
        "dist.pop(4)"
      ]
    },
    {
      "cell_type": "code",
      "execution_count": null,
      "metadata": {
        "colab": {
          "base_uri": "https://localhost:8080/",
          "height": 35
        },
        "id": "Y7bPTMQPsiFZ",
        "outputId": "c5e192a2-4202-4658-b159-30a0609ae30b"
      },
      "outputs": [],
      "source": [
        "dist"
      ]
    },
    {
      "cell_type": "markdown",
      "metadata": {
        "id": "i2zxM8yHqEeM"
      },
      "source": [
        "- `remove`\n",
        " "
      ]
    },
    {
      "cell_type": "code",
      "execution_count": null,
      "metadata": {
        "id": "7sQHXEApqk-O"
      },
      "outputs": [],
      "source": [
        "dist.remove(999)"
      ]
    },
    {
      "cell_type": "code",
      "execution_count": null,
      "metadata": {
        "colab": {
          "base_uri": "https://localhost:8080/",
          "height": 35
        },
        "id": "jDuXC_UFspmv",
        "outputId": "80d3406f-3071-4ac1-e83a-c8b5bde2a8ff"
      },
      "outputs": [],
      "source": [
        "dist"
      ]
    },
    {
      "cell_type": "markdown",
      "metadata": {
        "id": "7Fkn8BJhqFPU"
      },
      "source": [
        "- `reverse`\n",
        " "
      ]
    },
    {
      "cell_type": "code",
      "execution_count": null,
      "metadata": {
        "colab": {
          "base_uri": "https://localhost:8080/",
          "height": 35
        },
        "id": "ohNFkEaIqjUa",
        "outputId": "12a65d31-cbd8-4718-e30c-9bd522f59dda"
      },
      "outputs": [],
      "source": [
        "dist.reverse()\n",
        "dist"
      ]
    },
    {
      "cell_type": "markdown",
      "metadata": {
        "id": "wMAYWoe1qF7D"
      },
      "source": [
        "- `sort`"
      ]
    },
    {
      "cell_type": "code",
      "execution_count": null,
      "metadata": {
        "colab": {
          "base_uri": "https://localhost:8080/",
          "height": 35
        },
        "id": "aetIC5Jeqixc",
        "outputId": "6330e89c-56f4-4cb9-b733-3513c3a011c8"
      },
      "outputs": [],
      "source": [
        "dist.sort()\n",
        "dist"
      ]
    },
    {
      "cell_type": "markdown",
      "metadata": {
        "id": "SdbzGaPUtnrz"
      },
      "source": [
        "#### A short aside on Coercion"
      ]
    },
    {
      "cell_type": "code",
      "execution_count": null,
      "metadata": {
        "colab": {
          "base_uri": "https://localhost:8080/",
          "height": 35
        },
        "id": "nIrNAAFwtyO6",
        "outputId": "4577c02b-3727-4bd6-f4c3-a04efe47f94e"
      },
      "outputs": [],
      "source": [
        "type(numb)"
      ]
    },
    {
      "cell_type": "code",
      "execution_count": null,
      "metadata": {
        "colab": {
          "base_uri": "https://localhost:8080/",
          "height": 35
        },
        "id": "9VtmIX7Ot1MS",
        "outputId": "cbf4980f-9435-4d3a-a3ff-290f49e15286"
      },
      "outputs": [],
      "source": [
        "str(numb)"
      ]
    },
    {
      "cell_type": "code",
      "execution_count": null,
      "metadata": {
        "colab": {
          "base_uri": "https://localhost:8080/",
          "height": 35
        },
        "id": "mb2FyK4Pt3rx",
        "outputId": "222eea4f-f694-4c1c-9363-2da32ed91a11"
      },
      "outputs": [],
      "source": [
        "# Still an integer\n",
        "numb"
      ]
    },
    {
      "cell_type": "code",
      "execution_count": null,
      "metadata": {
        "colab": {
          "base_uri": "https://localhost:8080/",
          "height": 35
        },
        "id": "yOatGRmxt8di",
        "outputId": "da3080ba-2cc2-4b3d-89cc-056ca7bc2412"
      },
      "outputs": [],
      "source": [
        "letter = '8'\n",
        "type(letter)\n"
      ]
    },
    {
      "cell_type": "code",
      "execution_count": null,
      "metadata": {
        "colab": {
          "base_uri": "https://localhost:8080/",
          "height": 35
        },
        "id": "vYFeOYWruDCl",
        "outputId": "00533cdf-7f1f-4e79-8441-ff7de1cbc2a8"
      },
      "outputs": [],
      "source": [
        "int(letter)"
      ]
    },
    {
      "cell_type": "markdown",
      "metadata": {
        "id": "jURqtJxyuJjJ"
      },
      "source": [
        "### Attribues"
      ]
    },
    {
      "cell_type": "markdown",
      "metadata": {
        "id": "kT3YMEKburSs"
      },
      "source": [
        "The `__` notation is pronounced _dunder_ (double underscore)"
      ]
    },
    {
      "cell_type": "code",
      "execution_count": null,
      "metadata": {
        "colab": {
          "base_uri": "https://localhost:8080/",
          "height": 35
        },
        "id": "mAW0Tr06uhA3",
        "outputId": "8643ee37-b739-421b-ed45-24a78025ea16"
      },
      "outputs": [],
      "source": [
        "\n",
        "l.__len__"
      ]
    },
    {
      "cell_type": "code",
      "execution_count": null,
      "metadata": {
        "colab": {
          "base_uri": "https://localhost:8080/",
          "height": 35
        },
        "id": "6KiD00gUuk8G",
        "outputId": "37fd82aa-6ed6-42e8-9a2e-4cb331f00af1"
      },
      "outputs": [],
      "source": [
        "# This accesses the attribute directly\n",
        "len(l)"
      ]
    },
    {
      "cell_type": "markdown",
      "metadata": {
        "id": "hC2c4Guvu1NC"
      },
      "source": [
        "Recall our function from earlier, with `\"\"\"`"
      ]
    },
    {
      "cell_type": "code",
      "execution_count": null,
      "metadata": {
        "colab": {
          "base_uri": "https://localhost:8080/",
          "height": 35
        },
        "id": "VbuO4N_ru4qJ",
        "outputId": "dcc75c87-0ae3-4cd3-e883-6793651a351f"
      },
      "outputs": [],
      "source": [
        "addNumbs.__doc__"
      ]
    },
    {
      "cell_type": "markdown",
      "metadata": {
        "id": "Z-3cTFrWvOcc"
      },
      "source": [
        "### Dictionaries\n",
        "\n",
        "- `[]` produce lists\n",
        "- `()` produce tuples (immutable)\n",
        "- `{}` produce dictionaries `key:value`\n",
        "- `dict(zip([],[]))` zip two lists to make a dictionary"
      ]
    },
    {
      "cell_type": "code",
      "execution_count": null,
      "metadata": {
        "colab": {
          "base_uri": "https://localhost:8080/",
          "height": 35
        },
        "id": "7V9TLxw5vZtw",
        "outputId": "85649cec-5628-4ebf-a960-025a35991e8d"
      },
      "outputs": [],
      "source": [
        "d = {'int_value':3, \n",
        "     'bool_value':False, \n",
        "     'str_value':'hello'}\n",
        "\n",
        "d"
      ]
    },
    {
      "cell_type": "code",
      "execution_count": null,
      "metadata": {
        "colab": {
          "base_uri": "https://localhost:8080/",
          "height": 35
        },
        "id": "6t6WUF0evqWv",
        "outputId": "2a55cb03-6ea5-4ed2-d977-9e6a84769046"
      },
      "outputs": [],
      "source": [
        "# basic indexing using a key\n",
        "d['str_value'] #return the value at this key position"
      ]
    },
    {
      "cell_type": "markdown",
      "metadata": {
        "id": "0a9OkHtrv17P"
      },
      "source": [
        "Adding more `values` using lists."
      ]
    },
    {
      "cell_type": "code",
      "execution_count": null,
      "metadata": {
        "colab": {
          "base_uri": "https://localhost:8080/",
          "height": 53
        },
        "id": "E8d25Ulov340",
        "outputId": "9a758ee5-5473-4be6-ec82-48e330ee9fd0"
      },
      "outputs": [],
      "source": [
        "organizations = {'name': ['Volkswagen', 'Daimler', 'Allianz', 'Charite'],\n",
        "                 'structure': ['company', 'company', 'company', 'research']}\n",
        "\n",
        "organizations"
      ]
    },
    {
      "cell_type": "code",
      "execution_count": null,
      "metadata": {
        "colab": {
          "base_uri": "https://localhost:8080/",
          "height": 35
        },
        "id": "bkOKkw7nwFFU",
        "outputId": "d3d108d7-1fae-428b-f436-0125e56e50e0"
      },
      "outputs": [],
      "source": [
        "organizations['name']"
      ]
    },
    {
      "cell_type": "markdown",
      "metadata": {
        "id": "t0IhWqpJwL55"
      },
      "source": [
        "Create a dictionary from two lists using zip()"
      ]
    },
    {
      "cell_type": "code",
      "execution_count": null,
      "metadata": {
        "colab": {
          "base_uri": "https://localhost:8080/",
          "height": 125
        },
        "id": "YfV76iGDwLK5",
        "outputId": "22669e4d-2402-4550-a359-6a283ff249f9"
      },
      "outputs": [],
      "source": [
        "heights = [167, 188, 178, 194, 171, 169]\n",
        "persons = [\"Mary\", \"John\", \"Kevin\", \"Elena\", \"Doug\", \"Galin\"]\n",
        "\n",
        "heights_persons = dict(zip(persons, heights))\n",
        "heights_persons"
      ]
    },
    {
      "cell_type": "code",
      "execution_count": null,
      "metadata": {
        "id": "uVRx7oF-wkS_"
      },
      "outputs": [],
      "source": [
        "# what if we remove one:\n",
        "heights = [167, 188, 178, 194, 171, 169]\n",
        "persons = [\"Mary\", \"Kevin\", \"Elena\", \"Doug\", \"Galin\"]"
      ]
    },
    {
      "cell_type": "code",
      "execution_count": null,
      "metadata": {
        "colab": {
          "base_uri": "https://localhost:8080/",
          "height": 35
        },
        "id": "SArhXnqNwq59",
        "outputId": "defe5e2e-ba90-4cf2-c2dc-b0752c3618a4"
      },
      "outputs": [],
      "source": [
        "heights_persons_2 = dict(zip(persons, heights))\n",
        "heights_persons_2\n",
        "# last value is unmatched and exempted"
      ]
    },
    {
      "cell_type": "code",
      "execution_count": null,
      "metadata": {
        "colab": {
          "base_uri": "https://localhost:8080/",
          "height": 35
        },
        "id": "T_fxu-yCxGvt",
        "outputId": "cf63af51-d676-4282-9147-06a541667c75"
      },
      "outputs": [],
      "source": [
        "heights_persons.keys()"
      ]
    },
    {
      "cell_type": "code",
      "execution_count": null,
      "metadata": {
        "colab": {
          "base_uri": "https://localhost:8080/",
          "height": 35
        },
        "id": "wSZxxvhIxNzp",
        "outputId": "326bf776-d501-4548-e88f-8c90afebd00a"
      },
      "outputs": [],
      "source": [
        "heights_persons.values()"
      ]
    },
    {
      "cell_type": "markdown",
      "metadata": {
        "id": "HYEP87mOxlYr"
      },
      "source": [
        "**Exercise 3.16**"
      ]
    },
    {
      "cell_type": "code",
      "execution_count": null,
      "metadata": {
        "colab": {
          "base_uri": "https://localhost:8080/",
          "height": 107
        },
        "id": "G71vOiPRxkdU",
        "outputId": "adf92d7f-94ed-4f4c-c926-da397795bbfd"
      },
      "outputs": [],
      "source": [
        "cities = ['Munich', 'Paris', 'Amsterdam', 'Madrid', 'Istanbul']\n",
        "dist = [584, 1054, 653, 2301, 2191]\n",
        "\n",
        "distDict = dict(zip(cities, dist))\n",
        "distDict"
      ]
    },
    {
      "cell_type": "markdown",
      "metadata": {
        "id": "jW3MuQlozRQU"
      },
      "source": [
        "## NumPy (Data Containers III)"
      ]
    },
    {
      "cell_type": "markdown",
      "metadata": {
        "id": "FJGLe8_W0Pxq"
      },
      "source": [
        "- np.array([]) produces an ndarray\n",
        "\n",
        "**bold text**`ndarray` where nd = n-dimensional array."
      ]
    },
    {
      "cell_type": "code",
      "execution_count": null,
      "metadata": {
        "colab": {
          "base_uri": "https://localhost:8080/",
          "height": 35
        },
        "id": "8LLJhgYyzXh5",
        "outputId": "c2849fc6-e085-4bf8-e886-283a2962a8c6"
      },
      "outputs": [],
      "source": [
        "# already imported nympy as np\n",
        "# Basic list\n",
        "xx = [3, 8, 9, 23]\n",
        "xx\n"
      ]
    },
    {
      "cell_type": "code",
      "execution_count": null,
      "metadata": {
        "colab": {
          "base_uri": "https://localhost:8080/",
          "height": 35
        },
        "id": "OLRa2AEM0qOH",
        "outputId": "a1623e0d-8984-4f4d-dd5c-6bd9fd95e1c8"
      },
      "outputs": [],
      "source": [
        "xx = np.array([3, 8, 9, 23])\n",
        "xx"
      ]
    },
    {
      "cell_type": "code",
      "execution_count": null,
      "metadata": {
        "colab": {
          "base_uri": "https://localhost:8080/",
          "height": 71
        },
        "id": "-a0dSy_20xFv",
        "outputId": "42350d7f-b8ab-4b4d-d8e4-5dc410334368"
      },
      "outputs": [],
      "source": [
        "# wide variety of items, i.e. a list of lists\n",
        "yy = np.array([[5,7,8,9,3], \n",
        "          [0,3,6,8,2],\n",
        "          range(5)])\n",
        "yy"
      ]
    },
    {
      "cell_type": "code",
      "execution_count": null,
      "metadata": {
        "id": "4sTBmGYX1XN_"
      },
      "outputs": [],
      "source": [
        "# Recall: a list and an integer\n",
        "\n",
        "my_list = [1, 6, 9, 36]\n",
        "\n",
        "# error\n",
        "# my_list + 100"
      ]
    },
    {
      "cell_type": "code",
      "execution_count": null,
      "metadata": {
        "colab": {
          "base_uri": "https://localhost:8080/",
          "height": 35
        },
        "id": "B8ZMyvKA1rj-",
        "outputId": "f3ba4839-6039-4f44-f723-932fa20bda63"
      },
      "outputs": [],
      "source": [
        "# append a value to a list\n",
        "my_list + [100]"
      ]
    },
    {
      "cell_type": "code",
      "execution_count": null,
      "metadata": {
        "colab": {
          "base_uri": "https://localhost:8080/",
          "height": 35
        },
        "id": "tyAYqqw21u3m",
        "outputId": "11fbed1f-9057-49f5-a00c-fe893886f7db"
      },
      "outputs": [],
      "source": [
        "my_array = np.array(my_list)\n",
        "\n",
        "# Broadcasting (Vector recycling) :) :)\n",
        "my_array + 100"
      ]
    },
    {
      "cell_type": "code",
      "execution_count": null,
      "metadata": {
        "colab": {
          "base_uri": "https://localhost:8080/",
          "height": 35
        },
        "id": "AqTbFTmv2o1K",
        "outputId": "63e3cf4e-314f-4ada-8ad1-9eb472694d7f"
      },
      "outputs": [],
      "source": [
        "type(my_array)"
      ]
    },
    {
      "cell_type": "markdown",
      "metadata": {
        "id": "k23pm6f83Flg"
      },
      "source": [
        "## DataFrames with Pandas (Data Containers IV)\n",
        "\n",
        "- `pd.DataFrame({})` produces a DataFrame from a dictionary\n",
        "- `pd.DataFrame(dict(list(zip([],[]))))` produces a DataFrame from a list of names and list of lists"
      ]
    },
    {
      "cell_type": "code",
      "execution_count": null,
      "metadata": {
        "id": "-ybckpl43R70"
      },
      "outputs": [],
      "source": [
        "foo1 = [True, False, False, True, True, False]\n",
        "foo2 = [\"Liver\", \"Brain\", \"Testes\", \"Muscle\", \"Intestine\", \"Heart\"]\n",
        "foo3 = [13, 88, 1233, 55, 233, 18]"
      ]
    },
    {
      "cell_type": "code",
      "execution_count": null,
      "metadata": {
        "id": "nwS4wRGM3iSg"
      },
      "outputs": [],
      "source": [
        "# We have already imported pandas as pd\n",
        "# use a dictionary to get a data frame\n",
        "foo_df = pd.DataFrame({'healthy': foo1, \n",
        "                       'tissue': foo2, \n",
        "                       'quantity': foo3})"
      ]
    },
    {
      "cell_type": "code",
      "execution_count": null,
      "metadata": {
        "colab": {
          "base_uri": "https://localhost:8080/",
          "height": 233
        },
        "id": "3pZLmhaw35Sk",
        "outputId": "3afb2d73-7193-4777-a3a9-c037dc3a6ceb"
      },
      "outputs": [],
      "source": [
        "foo_df"
      ]
    },
    {
      "cell_type": "markdown",
      "metadata": {
        "id": "RJJjj5Be4EG3"
      },
      "source": [
        "**Exercise 4.1**"
      ]
    },
    {
      "cell_type": "code",
      "execution_count": null,
      "metadata": {
        "colab": {
          "base_uri": "https://localhost:8080/",
          "height": 202
        },
        "id": "cA_Ma1rS4Ffs",
        "outputId": "f1e407a5-b847-49ce-c435-355adf2c6e59"
      },
      "outputs": [],
      "source": [
        "distDictDF = pd.DataFrame({\"City\": cities,\n",
        "                           \"Distance\": dist})\n",
        "distDictDF"
      ]
    },
    {
      "cell_type": "markdown",
      "metadata": {
        "id": "Plwa5G8p478d"
      },
      "source": [
        "#### From Lists (jsut as an example)"
      ]
    },
    {
      "cell_type": "code",
      "execution_count": null,
      "metadata": {
        "colab": {
          "base_uri": "https://localhost:8080/",
          "height": 71
        },
        "id": "rEISq4-Z4-YS",
        "outputId": "5aa37413-9e35-470a-c367-17a44bdb14f8"
      },
      "outputs": [],
      "source": [
        "# names\n",
        "list_names = ['healthy', 'tissue', 'quantity']\n",
        "\n",
        "# columns are a list of lists\n",
        "list_cols = [foo1, foo2, foo3]\n",
        "list_cols"
      ]
    },
    {
      "cell_type": "code",
      "execution_count": null,
      "metadata": {
        "colab": {
          "base_uri": "https://localhost:8080/",
          "height": 71
        },
        "id": "hvOL7qYI5VNW",
        "outputId": "4b1e3097-54b0-4648-a5f5-681a4b6c065f"
      },
      "outputs": [],
      "source": [
        "zip_list = list(zip(list_names, list_cols))\n",
        "zip_list"
      ]
    },
    {
      "cell_type": "code",
      "execution_count": null,
      "metadata": {
        "colab": {
          "base_uri": "https://localhost:8080/",
          "height": 71
        },
        "id": "ydw3mGDC5d9q",
        "outputId": "d30c2557-efb2-4acc-b53f-bf63e77dc7d4"
      },
      "outputs": [],
      "source": [
        "zip_dict = dict(zip_list)\n",
        "zip_dict # True dictionary"
      ]
    },
    {
      "cell_type": "code",
      "execution_count": null,
      "metadata": {
        "colab": {
          "base_uri": "https://localhost:8080/",
          "height": 233
        },
        "id": "6R-u-Hcc5eOz",
        "outputId": "1213320c-3272-4e4e-8bcc-5b45ca07a16f"
      },
      "outputs": [],
      "source": [
        "zip_df = pd.DataFrame(zip_dict)\n",
        "zip_df"
      ]
    },
    {
      "cell_type": "markdown",
      "metadata": {
        "id": "01VXYScj6b6o"
      },
      "source": [
        "### Working with DataFrames"
      ]
    },
    {
      "cell_type": "code",
      "execution_count": null,
      "metadata": {
        "colab": {
          "base_uri": "https://localhost:8080/",
          "height": 143
        },
        "id": "lfawX4hg6Y9U",
        "outputId": "66ac050a-180f-4622-eefe-3e8ec86c4cce"
      },
      "outputs": [],
      "source": [
        "foo_df['healthy'] #indexing by name, an individual column \"Series\", 1-dim array"
      ]
    },
    {
      "cell_type": "code",
      "execution_count": null,
      "metadata": {
        "colab": {
          "base_uri": "https://localhost:8080/",
          "height": 233
        },
        "id": "ugwLuJWY6XE0",
        "outputId": "89f0b8f2-f66b-4884-c109-2db32f56113d"
      },
      "outputs": [],
      "source": [
        "foo_df[['healthy']] # DataFrame with 1 column"
      ]
    },
    {
      "cell_type": "code",
      "execution_count": null,
      "metadata": {
        "colab": {
          "base_uri": "https://localhost:8080/",
          "height": 143
        },
        "id": "Fo6BWEE56375",
        "outputId": "fefcd281-9ee2-4b52-e805-338035356075"
      },
      "outputs": [],
      "source": [
        "foo_df.healthy # Get the Series using a `.` notation"
      ]
    },
    {
      "cell_type": "code",
      "execution_count": null,
      "metadata": {
        "colab": {
          "base_uri": "https://localhost:8080/",
          "height": 233
        },
        "id": "3Zc9r9sh7jer",
        "outputId": "c63c1fff-c02a-4c7f-d5e0-8f9bf67447a5"
      },
      "outputs": [],
      "source": [
        "# Add a new column and populate it with the value (which is recycled, i.e. \"broadcast\" over the length of the Series)\n",
        "foo_df['new'] = 0\n",
        "foo_df"
      ]
    },
    {
      "cell_type": "code",
      "execution_count": null,
      "metadata": {
        "colab": {
          "base_uri": "https://localhost:8080/",
          "height": 233
        },
        "id": "J5z94wn87l5D",
        "outputId": "f1e8a54b-06ca-4a8f-ba37-26a0d0158149"
      },
      "outputs": [],
      "source": [
        "# But this doesn't work\n",
        "foo_df.new2 = 4\n",
        "foo_df"
      ]
    },
    {
      "cell_type": "markdown",
      "metadata": {
        "id": "GWD69vFWBuf9"
      },
      "source": [
        "# Mini-case study - exercise 4.8"
      ]
    },
    {
      "cell_type": "code",
      "execution_count": null,
      "metadata": {
        "colab": {
          "base_uri": "https://localhost:8080/",
          "height": 202
        },
        "id": "wuv8Z6dELj4s",
        "outputId": "c7887ecd-a8d5-4b4a-b748-0e9b87dfb7d2"
      },
      "outputs": [],
      "source": [
        "import pandas as pd\n",
        "mtcars = pd.read_csv('data/mtcars.csv')\n",
        "mtcars.head()"
      ]
    },
    {
      "cell_type": "markdown",
      "metadata": {
        "id": "sULLOJHIL3_6"
      },
      "source": [
        "1. Calculate the correlation between `mpg` and `wt` and test if it is significant."
      ]
    },
    {
      "cell_type": "code",
      "execution_count": null,
      "metadata": {
        "id": "68It7SPJL3Uq"
      },
      "outputs": [],
      "source": [
        "# corr() is not a function:\n",
        "# corr(mtcars['mpg'], mtcars['wt'])"
      ]
    },
    {
      "cell_type": "code",
      "execution_count": null,
      "metadata": {
        "colab": {
          "base_uri": "https://localhost:8080/",
          "height": 53
        },
        "id": "2rNcYxsyPVtk",
        "outputId": "f78e090f-9e11-41ab-c1b2-53daab6e8ca7"
      },
      "outputs": [],
      "source": [
        "# A correlation matrix\n",
        "cor_mat = mtcars.corr()\n",
        "cor_mat[['wt']].iloc[0]"
      ]
    },
    {
      "cell_type": "code",
      "execution_count": null,
      "metadata": {
        "colab": {
          "base_uri": "https://localhost:8080/",
          "height": 35
        },
        "id": "4in2ktTzQAA2",
        "outputId": "33100d18-145a-4752-f282-f891b281eb23"
      },
      "outputs": [],
      "source": [
        "# Targeted correlation between two Series in the DataFrame\n",
        "mtcars['mpg'].corr(mtcars['wt'])"
      ]
    },
    {
      "cell_type": "code",
      "execution_count": null,
      "metadata": {
        "colab": {
          "base_uri": "https://localhost:8080/",
          "height": 53
        },
        "id": "c9AsYzUgQUzl",
        "outputId": "70932f00-3fb9-4985-fac0-a8eea5da8975"
      },
      "outputs": [],
      "source": [
        "# Using NumPy\n",
        "r = np.corrcoef(mtcars['mpg'], mtcars['wt'])\n",
        "r"
      ]
    },
    {
      "cell_type": "code",
      "execution_count": null,
      "metadata": {
        "id": "cXJyzDrLQ1-A"
      },
      "outputs": [],
      "source": [
        "# import pingouin as pg  \n",
        "# pg.corr(x=mtcars['mpg'], y=mtcars['wt'])"
      ]
    },
    {
      "cell_type": "code",
      "execution_count": null,
      "metadata": {
        "colab": {
          "base_uri": "https://localhost:8080/",
          "height": 35
        },
        "id": "0vFqLHQqRx1y",
        "outputId": "225b4d33-f18e-4a52-8d7d-8c94461db3d1"
      },
      "outputs": [],
      "source": [
        "import scipy.stats as stats\n",
        "stats.pearsonr(mtcars['mpg'], mtcars['wt'])"
      ]
    },
    {
      "cell_type": "markdown",
      "metadata": {
        "id": "_JIE_VeTL6fT"
      },
      "source": [
        "2. Visualize the relationship in an XY scatter plot (bonus points for a regression line).\n"
      ]
    },
    {
      "cell_type": "code",
      "execution_count": null,
      "metadata": {
        "colab": {
          "base_uri": "https://localhost:8080/",
          "height": 287
        },
        "id": "5WWbZyLRL_8c",
        "outputId": "e15efb65-44bc-4817-867a-b66f9a06a5dc"
      },
      "outputs": [],
      "source": [
        "# previously imported seaborn (see above)\n",
        "# sns.scatter(x=mtcars['mpg'], y=mtcars['wt'])\n",
        "\n",
        "import matplotlib.pyplot as plt # Low level plotting\n",
        "y = mtcars.mpg\n",
        "x = mtcars.wt\n",
        "plt.scatter(x,y)\n",
        "# plt.show() "
      ]
    },
    {
      "cell_type": "code",
      "execution_count": null,
      "metadata": {
        "colab": {
          "base_uri": "https://localhost:8080/",
          "height": 300
        },
        "id": "F3FCNyrJVQco",
        "outputId": "a60f9f74-00dc-4777-c165-ed8a1ef84991"
      },
      "outputs": [],
      "source": [
        "sns.regplot(x=\"wt\", y=\"mpg\", data = mtcars, ci=None)"
      ]
    },
    {
      "cell_type": "code",
      "execution_count": null,
      "metadata": {
        "colab": {
          "base_uri": "https://localhost:8080/",
          "height": 401
        },
        "id": "AVk_5j03VX4r",
        "outputId": "4e00b168-a460-43b5-f7b9-fe7efe72d19d"
      },
      "outputs": [],
      "source": [
        "sns.lmplot(x=\"wt\", y=\"mpg\", data=mtcars, ci=None)"
      ]
    },
    {
      "cell_type": "code",
      "execution_count": null,
      "metadata": {
        "id": "osiR-Q1jWHKZ"
      },
      "outputs": [],
      "source": [
        "# from sklearn.linear_model import LinearRegression\n",
        "# model = LinearRegression().fit(x, y)"
      ]
    },
    {
      "cell_type": "code",
      "execution_count": null,
      "metadata": {
        "colab": {
          "base_uri": "https://localhost:8080/",
          "height": 441
        },
        "id": "y6nX4odoWgk1",
        "outputId": "2538de1a-1d93-43d6-af90-0121ba6d5bdc"
      },
      "outputs": [],
      "source": [
        "from statsmodels.formula.api import ols\n",
        "model = ols(\"mpg ~ wt\", data=mtcars)\n",
        "results = model.fit()\n",
        "results.summary()"
      ]
    },
    {
      "cell_type": "markdown",
      "metadata": {
        "id": "U6BIstnjXK3f"
      },
      "source": [
        "For plotting:\n",
        "\n",
        "- Continuous vs continuous (i.e. scatter plot), but also\n",
        "- Continuous vs categorical, or \n",
        "- Categorical vs continuous\n",
        "\n",
        "**Y-Axis**\n",
        "- Dependent variable (i.e. _dependent_ on the indpendent variable)\n",
        "- Response (i.e. the _outcome_)\n",
        "- f(x) (i.e. y _as a function of_ x)\n",
        "\n",
        "**X-Axis**\n",
        "- Independent variable (i.e. decided upon by the experimenter)\n",
        "- Predictor (a variable that _predicts_ a specific resonse, i.e. y)"
      ]
    },
    {
      "cell_type": "markdown",
      "metadata": {
        "id": "gZgDZQnbL8y5"
      },
      "source": [
        "3. Convert `wt` column from pounds to kg (bouns points for adding it to the DataFrame)."
      ]
    },
    {
      "cell_type": "code",
      "execution_count": null,
      "metadata": {
        "id": "HnjWfwxdMAgB"
      },
      "outputs": [],
      "source": [
        "# Avoid making unnecessary new objects that are separate from your DataFrame\n",
        "#twocol = mtcars[['mpg','wt']]\n",
        "#twocol['kilo'] = y/2.2046\n",
        "#twocol"
      ]
    },
    {
      "cell_type": "code",
      "execution_count": null,
      "metadata": {
        "colab": {
          "base_uri": "https://localhost:8080/",
          "height": 611
        },
        "id": "2hsMXVz4boLs",
        "outputId": "11672dd1-50fa-42a4-b772-7748995e9cf9"
      },
      "outputs": [],
      "source": [
        "mtcars[\"wt\"]"
      ]
    },
    {
      "cell_type": "code",
      "execution_count": null,
      "metadata": {
        "colab": {
          "base_uri": "https://localhost:8080/",
          "height": 611
        },
        "id": "fi-BI1m_bb7h",
        "outputId": "f9b9b999-34bd-4c51-f4e3-5ae37c8f46df"
      },
      "outputs": [],
      "source": [
        "mtcars[\"wt\"].apply(lambda x: x/2.2046)"
      ]
    },
    {
      "cell_type": "code",
      "execution_count": null,
      "metadata": {
        "id": "1EZMrRJ4bx7T"
      },
      "outputs": [],
      "source": [
        "mtcars['wt_kg'] = mtcars['wt']/2.2046226218"
      ]
    },
    {
      "cell_type": "code",
      "execution_count": null,
      "metadata": {
        "id": "__QrmSRgckZs"
      },
      "outputs": [],
      "source": [
        "# Alternatvely:\n",
        "# mtcars['wt_kg_2'] = mtcars['wt']*0.453592"
      ]
    },
    {
      "cell_type": "markdown",
      "metadata": {
        "id": "9h0FwTnXcZzy"
      },
      "source": [
        "# Indexing\n"
      ]
    },
    {
      "cell_type": "code",
      "execution_count": null,
      "metadata": {
        "colab": {
          "base_uri": "https://localhost:8080/",
          "height": 233
        },
        "id": "h_Au8NxkdyjF",
        "outputId": "dd26de41-60e7-4e02-e1e8-8b0c75da4e77"
      },
      "outputs": [],
      "source": [
        "foo_df"
      ]
    },
    {
      "cell_type": "code",
      "execution_count": null,
      "metadata": {
        "colab": {
          "base_uri": "https://localhost:8080/",
          "height": 143
        },
        "id": "1I0KixJqd6v8",
        "outputId": "64e59922-a9d7-41b4-d058-89aa629687ab"
      },
      "outputs": [],
      "source": [
        "foo_df['tissue']"
      ]
    },
    {
      "cell_type": "code",
      "execution_count": null,
      "metadata": {
        "colab": {
          "base_uri": "https://localhost:8080/",
          "height": 233
        },
        "id": "FK86PJSud7ir",
        "outputId": "3f865bbc-42cb-40d7-a498-0d9c63d840da"
      },
      "outputs": [],
      "source": [
        "foo_df[['tissue']]"
      ]
    },
    {
      "cell_type": "code",
      "execution_count": null,
      "metadata": {
        "colab": {
          "base_uri": "https://localhost:8080/",
          "height": 143
        },
        "id": "mWsGqZkDeFex",
        "outputId": "1f08f1a4-4871-4b97-9b29-6bc2155aed72"
      },
      "outputs": [],
      "source": [
        "foo_df.tissue"
      ]
    },
    {
      "cell_type": "markdown",
      "metadata": {
        "id": "1rT0C68meMr8"
      },
      "source": [
        "index position as number with `.iloc[]`"
      ]
    },
    {
      "cell_type": "code",
      "execution_count": null,
      "metadata": {
        "colab": {
          "base_uri": "https://localhost:8080/",
          "height": 107
        },
        "id": "7QjivBo5eMEY",
        "outputId": "de288380-1818-4b0c-c1fa-2ff9738e4142"
      },
      "outputs": [],
      "source": [
        "# First row, as a Series\n",
        "foo_df.iloc[0] "
      ]
    },
    {
      "cell_type": "code",
      "execution_count": null,
      "metadata": {
        "colab": {
          "base_uri": "https://localhost:8080/",
          "height": 79
        },
        "id": "ZtKeZEMmeZWd",
        "outputId": "01d564ac-44ec-4db5-e733-c1155e283fc1"
      },
      "outputs": [],
      "source": [
        "# First row, as a DataFrame\n",
        "foo_df.iloc[[0]] "
      ]
    },
    {
      "cell_type": "code",
      "execution_count": null,
      "metadata": {
        "colab": {
          "base_uri": "https://localhost:8080/",
          "height": 110
        },
        "id": "dXcLRq9Kel2S",
        "outputId": "324b7d31-1e2e-4116-d206-73c3891e94a9"
      },
      "outputs": [],
      "source": [
        "foo_df.iloc[[0, 1]] "
      ]
    },
    {
      "cell_type": "markdown",
      "metadata": {
        "id": "faNv8oSDeyz8"
      },
      "source": [
        "Using two dimensions:"
      ]
    },
    {
      "cell_type": "code",
      "execution_count": null,
      "metadata": {
        "colab": {
          "base_uri": "https://localhost:8080/",
          "height": 107
        },
        "id": "CC4q4YLaex0Y",
        "outputId": "3915cef6-3a79-442d-e4cb-f426dea4729b"
      },
      "outputs": [],
      "source": [
        "# To get all columns, use : after the comma\n",
        "foo_df.iloc[0,:] # : == everything "
      ]
    },
    {
      "cell_type": "code",
      "execution_count": null,
      "metadata": {
        "id": "LK3wM-PlfM3g"
      },
      "outputs": [],
      "source": [
        "# Valid\n",
        "# foo_df.iloc[0,]"
      ]
    },
    {
      "cell_type": "markdown",
      "metadata": {
        "id": "tgCP9N-ofZgy"
      },
      "source": [
        "Indexing begins at 0 and is _exclusive_"
      ]
    },
    {
      "cell_type": "code",
      "execution_count": null,
      "metadata": {
        "colab": {
          "base_uri": "https://localhost:8080/",
          "height": 233
        },
        "id": "H9TViCT0fZ9v",
        "outputId": "225f848f-1309-4566-99b1-b719b125a779"
      },
      "outputs": [],
      "source": [
        "# The first two columns, all rows\n",
        "foo_df.iloc[:,:2] # 0, 1, and exclude 2"
      ]
    },
    {
      "cell_type": "code",
      "execution_count": null,
      "metadata": {
        "colab": {
          "base_uri": "https://localhost:8080/",
          "height": 143
        },
        "id": "L-Dehf4pgWIu",
        "outputId": "c35c5601-800d-49eb-9e1b-261b2758dc12"
      },
      "outputs": [],
      "source": [
        "# One column as a Series\n",
        "foo_df.iloc[:,1]"
      ]
    },
    {
      "cell_type": "code",
      "execution_count": null,
      "metadata": {
        "colab": {
          "base_uri": "https://localhost:8080/",
          "height": 233
        },
        "id": "Ox9LGhIegeV7",
        "outputId": "4b79924f-98ee-41cd-9a0e-b76e5e0a6b1e"
      },
      "outputs": [],
      "source": [
        "# The same, as a DataFrame\n",
        "foo_df.iloc[:,1:2]"
      ]
    },
    {
      "cell_type": "code",
      "execution_count": null,
      "metadata": {
        "colab": {
          "base_uri": "https://localhost:8080/",
          "height": 107
        },
        "id": "wL_i3XhAg-IM",
        "outputId": "0c567553-efc0-4408-a593-e662d6918282"
      },
      "outputs": [],
      "source": [
        "# counting from the opposite direction\n",
        "# -1 is the last row\n",
        "foo_df.iloc[-1,]\n",
        "# forward: 0  1  2  3  4  5\n",
        "# Reverse -6 -5 -4 -3 -2 -1"
      ]
    },
    {
      "cell_type": "code",
      "execution_count": null,
      "metadata": {
        "colab": {
          "base_uri": "https://localhost:8080/",
          "height": 233
        },
        "id": "KlrK6Ni2hEhK",
        "outputId": "275b4545-22c6-4754-939a-cda4a5796951"
      },
      "outputs": [],
      "source": [
        "foo_df"
      ]
    },
    {
      "cell_type": "code",
      "execution_count": null,
      "metadata": {
        "colab": {
          "base_uri": "https://localhost:8080/",
          "height": 297
        },
        "id": "4pURflAri_5-",
        "outputId": "b51a9839-d6a3-4478-ae56-15cd33492082"
      },
      "outputs": [],
      "source": [
        "foo_df.reverse()"
      ]
    },
    {
      "cell_type": "markdown",
      "metadata": {
        "id": "2aeeuzGKhtSM"
      },
      "source": [
        "**Exercise 5.1**\n",
        "\n",
        "Using foo_df, retreive:"
      ]
    },
    {
      "cell_type": "markdown",
      "metadata": {
        "id": "3gkgEit5hwxK"
      },
      "source": [
        "The 2nd to 3rd rows"
      ]
    },
    {
      "cell_type": "code",
      "execution_count": null,
      "metadata": {
        "id": "I2GC1DSZh5eN"
      },
      "outputs": [],
      "source": [
        "# foo_df.iloc[2:3, :] # only the 3rd row\n",
        "# foo_df.iloc[[2,3],:] # the 3rd & the 4th row using a list\n",
        "# foo_df.iloc[2:4] # the 3rd & the 4th row using : notation\n",
        "# foo_df.iloc[0:2,] # 1st & 2nd rows\n",
        "# foo_df[-1:2,:] # Computer says \"no\"\n",
        "# foo_df.iloc[3:,:] # 4th to the end \n",
        "\n",
        "# yes :)\n",
        "foo_df.iloc[[1, 2]] # 2nd & 3rd rows using a list\n",
        "# foo_df.iloc[1:3,:] # 2nd & 3rd rows using : notation\n"
      ]
    },
    {
      "cell_type": "markdown",
      "metadata": {
        "id": "jxYgpqoNh6N3"
      },
      "source": [
        "The last 2 rows"
      ]
    },
    {
      "cell_type": "code",
      "execution_count": null,
      "metadata": {
        "id": "cB4goDSyh77X"
      },
      "outputs": [],
      "source": [
        "foo_df[-2:]"
      ]
    },
    {
      "cell_type": "code",
      "execution_count": null,
      "metadata": {
        "id": "9M3rZijiuCrf"
      },
      "outputs": [],
      "source": [
        "# The last two no matter how long\n",
        "foo_df.iloc[-2:]\n",
        "# foo_df.iloc[[-1,-2],:] # specify the order with a list"
      ]
    },
    {
      "cell_type": "code",
      "execution_count": null,
      "metadata": {
        "id": "tEymDaMuuNHS"
      },
      "outputs": [],
      "source": [
        "# Hard coding positions\n",
        "# foo_df.iloc[ [4, 5],:]\n",
        "# foo_df.iloc[4:,:] "
      ]
    },
    {
      "cell_type": "markdown",
      "metadata": {
        "id": "khTgYvgIh8PH"
      },
      "source": [
        "A random row in foo_df"
      ]
    },
    {
      "cell_type": "code",
      "execution_count": null,
      "metadata": {
        "id": "ybcMSquchwE8"
      },
      "outputs": [],
      "source": [
        "# import random\n",
        "# foo_df.iloc[[random.randrange(0, len(foo_df))]]\n",
        "foo_df.sample()"
      ]
    },
    {
      "cell_type": "markdown",
      "metadata": {
        "id": "Ltv6VFJgh-Wl"
      },
      "source": [
        "From the 4th to the last row\n",
        "(But without hard-coding, i.e. regardless of how many rows my data frame contains)"
      ]
    },
    {
      "cell_type": "code",
      "execution_count": null,
      "metadata": {
        "id": "MLMO1tnEh-9Z"
      },
      "outputs": [],
      "source": [
        "# foo_df[3:]\n",
        "foo_df.iloc[3:,:]\n"
      ]
    },
    {
      "cell_type": "markdown",
      "metadata": {
        "id": "-f9j1cpjtcAx"
      },
      "source": [
        "** Exercise 5.2**\n",
        "\n",
        "Using `.iloc()` with:\n",
        "\n"
      ]
    },
    {
      "cell_type": "code",
      "execution_count": null,
      "metadata": {
        "id": "OOIlwxArtoBJ"
      },
      "outputs": [],
      "source": [
        "# Integers? yes :)\n",
        "foo_df.iloc[4,]\n"
      ]
    },
    {
      "cell_type": "code",
      "execution_count": null,
      "metadata": {
        "id": "pr4GRZZDtssU"
      },
      "outputs": [],
      "source": [
        "# Floats? Computer says no\n",
        "# foo_df[0.1:]"
      ]
    },
    {
      "cell_type": "code",
      "execution_count": null,
      "metadata": {
        "id": "dK5Tthd7tt9H"
      },
      "outputs": [],
      "source": [
        "# Strings (Characters)? Computer says \"no\"\n",
        "# foo_df.iloc[:,'tissue']\n",
        "# foo_df.iloc['Brain'] # need to look inside the tissue column\n",
        "# foo_df.iloc['A'] # No is no 'A' anyways\n",
        "# foo_df[heart:]   # No object defined "
      ]
    },
    {
      "cell_type": "code",
      "execution_count": null,
      "metadata": {
        "id": "KpLxJCpGtvT4"
      },
      "outputs": [],
      "source": [
        "# A heterogenous list? Computer says \"no\"\n",
        "# foo_df.iloc[:,[1, 'quantity']]\n",
        "\n"
      ]
    },
    {
      "cell_type": "code",
      "execution_count": null,
      "metadata": {
        "id": "u2C8n_t0twdu"
      },
      "outputs": [],
      "source": [
        "# A homogenous list?\n",
        "foo_df.iloc[[1,4,-1,-1,3,2,0]]\n"
      ]
    },
    {
      "cell_type": "markdown",
      "metadata": {
        "id": "1ULmqL8kwvKb"
      },
      "source": [
        "**Exercise 5.3**"
      ]
    },
    {
      "cell_type": "markdown",
      "metadata": {
        "id": "CpJp83Oxyh3C"
      },
      "source": [
        "Use indexing to obtain all the odd rows\n"
      ]
    },
    {
      "cell_type": "code",
      "execution_count": null,
      "metadata": {
        "id": "-2nfrIm6yspg"
      },
      "outputs": [],
      "source": [
        "foo_df.iloc[1::2] # 2nd, 4th, 6th"
      ]
    },
    {
      "cell_type": "code",
      "execution_count": null,
      "metadata": {
        "id": "K12HmWe20_AT"
      },
      "outputs": [],
      "source": [
        "foo_df.iloc[lambda x: x.index % 2 == 1]"
      ]
    },
    {
      "cell_type": "code",
      "execution_count": null,
      "metadata": {
        "id": "IFvBy59E1dyX"
      },
      "outputs": [],
      "source": [
        "foo_df[foo_df.index % 2 != 0]"
      ]
    },
    {
      "cell_type": "markdown",
      "metadata": {
        "id": "ZKy9mWyqyq-u"
      },
      "source": [
        "Use indexing to obtain all the even rows"
      ]
    },
    {
      "cell_type": "code",
      "execution_count": null,
      "metadata": {
        "id": "n4uRY4k5ytHu"
      },
      "outputs": [],
      "source": [
        "foo_df.iloc[::2] # 1st, 3rd, 5th"
      ]
    },
    {
      "cell_type": "code",
      "execution_count": null,
      "metadata": {
        "id": "2tIb9FYx1Oey"
      },
      "outputs": [],
      "source": [
        "foo_df.iloc[lambda x: x.index % 2 == 0]"
      ]
    },
    {
      "cell_type": "markdown",
      "metadata": {
        "id": "Bt8bQQ_S1zTW"
      },
      "source": [
        "# Logical Expressions\n",
        "\n",
        "Relational and logical operators"
      ]
    },
    {
      "cell_type": "code",
      "execution_count": null,
      "metadata": {
        "id": "EZreeLnZ2LOi"
      },
      "outputs": [],
      "source": [
        "foo_df[foo_df.quantity >= 233]"
      ]
    },
    {
      "cell_type": "code",
      "execution_count": null,
      "metadata": {
        "id": "OuSxIRRf2T_t"
      },
      "outputs": [],
      "source": [
        "foo_df[(foo_df.tissue == \"Heart\") | (foo_df.quantity >= 233)]"
      ]
    },
    {
      "cell_type": "markdown",
      "metadata": {
        "id": "ENRJOaEg22Rb"
      },
      "source": [
        "**Exercise 5.4**\n",
        "\n",
        "Only “healthy” samples.\n"
      ]
    },
    {
      "cell_type": "code",
      "execution_count": null,
      "metadata": {
        "id": "yleRlep63K7z"
      },
      "outputs": [],
      "source": [
        "foo_df[foo_df.healthy]\n"
      ]
    },
    {
      "cell_type": "markdown",
      "metadata": {
        "id": "WhVeoHQS26-n"
      },
      "source": [
        "Only “unhealthy” samples.\n"
      ]
    },
    {
      "cell_type": "code",
      "execution_count": null,
      "metadata": {
        "id": "IbQY6Ui43Len"
      },
      "outputs": [],
      "source": [
        "foo_df[-foo_df.healthy]\n"
      ]
    },
    {
      "cell_type": "code",
      "execution_count": null,
      "metadata": {
        "id": "_tEpQKJW4WBy"
      },
      "outputs": [],
      "source": [
        "foo_df[~foo_df.healthy]\n"
      ]
    },
    {
      "cell_type": "markdown",
      "metadata": {
        "id": "jdNQD1i_28HZ"
      },
      "source": [
        "**Exercise 5.5**\n",
        "\n",
        "\n",
        "Only low quantity samples, those below 100."
      ]
    },
    {
      "cell_type": "code",
      "execution_count": null,
      "metadata": {
        "id": "CAuRnYc_3hFl"
      },
      "outputs": [],
      "source": []
    },
    {
      "cell_type": "markdown",
      "metadata": {
        "id": "4XW2JDsQ3C92"
      },
      "source": [
        "Midrange: Quantity between 100 and 1000,\n"
      ]
    },
    {
      "cell_type": "code",
      "execution_count": null,
      "metadata": {
        "id": "WaEL26P13gru"
      },
      "outputs": [],
      "source": []
    },
    {
      "cell_type": "markdown",
      "metadata": {
        "id": "zyarLo_x3EFa"
      },
      "source": [
        "Tails of the distribution: Quantity below 100 and beyond 1000.\n"
      ]
    },
    {
      "cell_type": "code",
      "execution_count": null,
      "metadata": {
        "id": "wm0DxtDV3gSI"
      },
      "outputs": [],
      "source": []
    },
    {
      "cell_type": "markdown",
      "metadata": {
        "id": "sIRAl8653FIi"
      },
      "source": [
        "**Exercise 5.6**\n",
        "\n",
        "Only “Heart” samples."
      ]
    },
    {
      "cell_type": "code",
      "execution_count": null,
      "metadata": {
        "id": "VQk14r1T3fuy"
      },
      "outputs": [],
      "source": []
    },
    {
      "cell_type": "markdown",
      "metadata": {
        "id": "OUxjcaJH3IYh"
      },
      "source": [
        "“Heart” and “liver” samples\n"
      ]
    },
    {
      "cell_type": "code",
      "execution_count": null,
      "metadata": {
        "id": "FkSPZ0RM3MpK"
      },
      "outputs": [],
      "source": []
    },
    {
      "cell_type": "markdown",
      "metadata": {
        "id": "JcDYOhf13Jku"
      },
      "source": [
        "Everything except “intestines”\n"
      ]
    },
    {
      "cell_type": "code",
      "execution_count": null,
      "metadata": {
        "id": "6WnDvENh3MNG"
      },
      "outputs": [],
      "source": []
    }
  ],
  "metadata": {
    "colab": {
      "name": "3-Python Fundamentals from Colab.ipynb",
      "provenance": []
    },
    "kernelspec": {
      "display_name": "Python 3",
      "name": "python3"
    },
    "language_info": {
      "codemirror_mode": {
        "name": "ipython",
        "version": 3
      },
      "file_extension": ".py",
      "mimetype": "text/x-python",
      "name": "python",
      "nbconvert_exporter": "python",
      "pygments_lexer": "ipython3",
      "version": "3.8.11"
    }
  },
  "nbformat": 4,
  "nbformat_minor": 0
}

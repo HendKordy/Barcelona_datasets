{
  "cells": [
    {
      "cell_type": "markdown",
      "metadata": {
        "id": "p9f2-PeSFck8"
      },
      "source": [
        "## Intro to python fundamentals\n"
      ]
    }
  ],
  "metadata": {
    "colab": {
      "name": "3-Python Fundamentals from Colab.ipynb",
      "provenance": []
    },
    "kernelspec": {
      "display_name": "Python 3",
      "name": "python3"
    },
    "language_info": {
      "codemirror_mode": {
        "name": "ipython",
        "version": 3
      },
      "file_extension": ".py",
      "mimetype": "text/x-python",
      "name": "python",
      "nbconvert_exporter": "python",
      "pygments_lexer": "ipython3",
      "version": "3.8.11"
    }
  },
  "nbformat": 4,
  "nbformat_minor": 0
}

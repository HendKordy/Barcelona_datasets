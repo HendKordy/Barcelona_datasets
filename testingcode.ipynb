{
  "cells": [
    {
      "cell_type": "markdown",
      "metadata": {
        "id": "p9f2-PeSFck8"
      },
      "source": [
        "## Intro to python fundamentals\n"
      ]
    },
    {
      "cell_type": "code",
      "execution_count": 1,
      "metadata": {},
      "outputs": [],
      "source": [
        "import numpy as np\n",
        "import pandas as pd\n",
        "import matplotlib.pyplot as plt\n",
        "import seaborn as snsa"
      ]
    },
    {
      "cell_type": "code",
      "execution_count": null,
      "metadata": {},
      "outputs": [],
      "source": [
        "air_quality = pd.read_csv('data/air_quality_Nov2017.csv')\n",
        "air_station = pd.read_csv('data/air_stations_Nov2017.csv')\n",
        "population = pd.read_csv('data/population.csv')\n",
        "life_exp = pd.read_csv('data/life_expectancy.csv')\n"
      ]
    },
    {
      "cell_type": "code",
      "execution_count": 2,
      "metadata": {},
      "outputs": [
        {
          "name": "stdout",
          "output_type": "stream",
          "text": [
            "testing\n"
          ]
        }
      ],
      "source": [
        "air_quality.head()\n",
        "#Date Time\n",
        "#https://timestamp.online/?ref=xranks"
      ]
    },
    {
      "cell_type": "code",
      "execution_count": null,
      "metadata": {},
      "outputs": [],
      "source": [
        "#join all Data\n",
        "all_data = air_quality.append(air_station).append(population).append(life_exp)\n",
        "# %%\n",
        "all_data.head(2)"
      ]
    }
  ],
  "metadata": {
    "colab": {
      "name": "3-Python Fundamentals from Colab.ipynb",
      "provenance": []
    },
    "kernelspec": {
      "display_name": "Python 3",
      "name": "python3"
    },
    "language_info": {
      "codemirror_mode": {
        "name": "ipython",
        "version": 3
      },
      "file_extension": ".py",
      "mimetype": "text/x-python",
      "name": "python",
      "nbconvert_exporter": "python",
      "pygments_lexer": "ipython3",
      "version": "3.7.6"
    }
  },
  "nbformat": 4,
  "nbformat_minor": 0
}
